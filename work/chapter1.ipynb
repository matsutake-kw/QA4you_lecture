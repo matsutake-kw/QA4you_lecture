{
 "cells": [
  {
   "cell_type": "code",
   "execution_count": null,
   "id": "a3420560",
   "metadata": {},
   "outputs": [],
   "source": [
    "import numpy as np\n",
    "\n",
    "N=10\n",
    "QUBO=np.random.randn(N**2).reshape(N, N)"
   ]
  },
  {
   "cell_type": "code",
   "execution_count": null,
   "id": "8584b426",
   "metadata": {},
   "outputs": [],
   "source": [
    "print(QUBO[0][1])"
   ]
  },
  {
   "cell_type": "code",
   "execution_count": null,
   "id": "20e75829",
   "metadata": {},
   "outputs": [],
   "source": [
    "from os import getenv\n",
    "endpoint = getenv('ENDPOINT')\n",
    "token= getenv('TOKEN')"
   ]
  },
  {
   "cell_type": "code",
   "execution_count": null,
   "id": "15bd8486-e1eb-4108-8452-a7b3d59f032a",
   "metadata": {},
   "outputs": [],
   "source": [
    "from dwave.system import DWaveSampler, EmbeddingComposite\n",
    "\n",
    "dw_sampler = DWaveSampler(solver = 'Advantage_system1.1', token = token, endpoint = endpoint)"
   ]
  },
  {
   "cell_type": "code",
   "execution_count": null,
   "id": "3ca681b0-2d29-4d6b-ad0a-2c4c4eafff12",
   "metadata": {},
   "outputs": [],
   "source": []
  }
 ],
 "metadata": {
  "kernelspec": {
   "display_name": "Python 3",
   "language": "python",
   "name": "python3"
  },
  "language_info": {
   "codemirror_mode": {
    "name": "ipython",
    "version": 3
   },
   "file_extension": ".py",
   "mimetype": "text/x-python",
   "name": "python",
   "nbconvert_exporter": "python",
   "pygments_lexer": "ipython3",
   "version": "3.9.2"
  }
 },
 "nbformat": 4,
 "nbformat_minor": 5
}
